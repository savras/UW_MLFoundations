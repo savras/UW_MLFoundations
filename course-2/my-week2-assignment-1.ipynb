{
 "cells": [
  {
   "cell_type": "code",
   "execution_count": 6,
   "metadata": {
    "collapsed": true
   },
   "outputs": [],
   "source": [
    "import graphlab\n",
    "from math import log"
   ]
  },
  {
   "cell_type": "code",
   "execution_count": 7,
   "metadata": {
    "collapsed": false
   },
   "outputs": [
    {
     "name": "stderr",
     "output_type": "stream",
     "text": [
      "[INFO] graphlab.cython.cy_server: GraphLab Create v2.1 started. Logging: /tmp/graphlab_server_1551047115.log\n",
      "INFO:graphlab.cython.cy_server:GraphLab Create v2.1 started. Logging: /tmp/graphlab_server_1551047115.log\n"
     ]
    },
    {
     "name": "stdout",
     "output_type": "stream",
     "text": [
      "This non-commercial license of GraphLab Create for academic use is assigned to xaero@y7mail.com and will expire on October 26, 2019.\n"
     ]
    }
   ],
   "source": [
    "sales = graphlab.SFrame('kc_house_data.gl/')"
   ]
  },
  {
   "cell_type": "code",
   "execution_count": 8,
   "metadata": {
    "collapsed": true
   },
   "outputs": [],
   "source": [
    "train_data,test_data = sales.random_split(.8,seed=0)"
   ]
  },
  {
   "cell_type": "code",
   "execution_count": 9,
   "metadata": {
    "collapsed": false
   },
   "outputs": [
    {
     "data": {
      "text/html": [
       "<pre>Linear regression:</pre>"
      ],
      "text/plain": [
       "Linear regression:"
      ]
     },
     "metadata": {},
     "output_type": "display_data"
    },
    {
     "data": {
      "text/html": [
       "<pre>--------------------------------------------------------</pre>"
      ],
      "text/plain": [
       "--------------------------------------------------------"
      ]
     },
     "metadata": {},
     "output_type": "display_data"
    },
    {
     "data": {
      "text/html": [
       "<pre>Number of examples          : 17384</pre>"
      ],
      "text/plain": [
       "Number of examples          : 17384"
      ]
     },
     "metadata": {},
     "output_type": "display_data"
    },
    {
     "data": {
      "text/html": [
       "<pre>Number of features          : 3</pre>"
      ],
      "text/plain": [
       "Number of features          : 3"
      ]
     },
     "metadata": {},
     "output_type": "display_data"
    },
    {
     "data": {
      "text/html": [
       "<pre>Number of unpacked features : 3</pre>"
      ],
      "text/plain": [
       "Number of unpacked features : 3"
      ]
     },
     "metadata": {},
     "output_type": "display_data"
    },
    {
     "data": {
      "text/html": [
       "<pre>Number of coefficients    : 4</pre>"
      ],
      "text/plain": [
       "Number of coefficients    : 4"
      ]
     },
     "metadata": {},
     "output_type": "display_data"
    },
    {
     "data": {
      "text/html": [
       "<pre>Starting Newton Method</pre>"
      ],
      "text/plain": [
       "Starting Newton Method"
      ]
     },
     "metadata": {},
     "output_type": "display_data"
    },
    {
     "data": {
      "text/html": [
       "<pre>--------------------------------------------------------</pre>"
      ],
      "text/plain": [
       "--------------------------------------------------------"
      ]
     },
     "metadata": {},
     "output_type": "display_data"
    },
    {
     "data": {
      "text/html": [
       "<pre>+-----------+----------+--------------+--------------------+---------------+</pre>"
      ],
      "text/plain": [
       "+-----------+----------+--------------+--------------------+---------------+"
      ]
     },
     "metadata": {},
     "output_type": "display_data"
    },
    {
     "data": {
      "text/html": [
       "<pre>| Iteration | Passes   | Elapsed Time | Training-max_error | Training-rmse |</pre>"
      ],
      "text/plain": [
       "| Iteration | Passes   | Elapsed Time | Training-max_error | Training-rmse |"
      ]
     },
     "metadata": {},
     "output_type": "display_data"
    },
    {
     "data": {
      "text/html": [
       "<pre>+-----------+----------+--------------+--------------------+---------------+</pre>"
      ],
      "text/plain": [
       "+-----------+----------+--------------+--------------------+---------------+"
      ]
     },
     "metadata": {},
     "output_type": "display_data"
    },
    {
     "data": {
      "text/html": [
       "<pre>| 1         | 2        | 1.011711     | 4146407.600631     | 258679.804477 |</pre>"
      ],
      "text/plain": [
       "| 1         | 2        | 1.011711     | 4146407.600631     | 258679.804477 |"
      ]
     },
     "metadata": {},
     "output_type": "display_data"
    },
    {
     "data": {
      "text/html": [
       "<pre>+-----------+----------+--------------+--------------------+---------------+</pre>"
      ],
      "text/plain": [
       "+-----------+----------+--------------+--------------------+---------------+"
      ]
     },
     "metadata": {},
     "output_type": "display_data"
    },
    {
     "data": {
      "text/html": [
       "<pre>SUCCESS: Optimal solution found.</pre>"
      ],
      "text/plain": [
       "SUCCESS: Optimal solution found."
      ]
     },
     "metadata": {},
     "output_type": "display_data"
    },
    {
     "data": {
      "text/html": [
       "<pre></pre>"
      ],
      "text/plain": []
     },
     "metadata": {},
     "output_type": "display_data"
    }
   ],
   "source": [
    "example_features = ['sqft_living', 'bedrooms', 'bathrooms']\n",
    "example_model = graphlab.linear_regression.create(train_data, target = 'price', features = example_features, \n",
    "                                                  validation_set = None)"
   ]
  },
  {
   "cell_type": "code",
   "execution_count": 10,
   "metadata": {
    "collapsed": false
   },
   "outputs": [
    {
     "name": "stdout",
     "output_type": "stream",
     "text": [
      "+-------------+-------+----------------+---------------+\n",
      "|     name    | index |     value      |     stderr    |\n",
      "+-------------+-------+----------------+---------------+\n",
      "| (intercept) |  None | 87910.0724924  |  7873.3381434 |\n",
      "| sqft_living |  None | 315.403440552  | 3.45570032585 |\n",
      "|   bedrooms  |  None | -65080.2155528 | 2717.45685442 |\n",
      "|  bathrooms  |  None | 6944.02019265  | 3923.11493144 |\n",
      "+-------------+-------+----------------+---------------+\n",
      "[4 rows x 4 columns]\n",
      "\n"
     ]
    }
   ],
   "source": [
    "example_weight_summary = example_model.get(\"coefficients\")\n",
    "print example_weight_summary"
   ]
  },
  {
   "cell_type": "markdown",
   "metadata": {},
   "source": [
    " #### Add 4 new variables in both your train_data and test_data.\n",
    "\n",
    "* ‘bedrooms_squared’ = ‘bedrooms’*‘bedrooms’ \n",
    "* ‘bed_bath_rooms’ = ‘bedrooms’*‘bathrooms’ \n",
    "* ‘log_sqft_living’ = log(‘sqft_living’) \n",
    "* ‘lat_plus_long’ = ‘lat’ + ‘long’ "
   ]
  },
  {
   "cell_type": "code",
   "execution_count": 22,
   "metadata": {
    "collapsed": false
   },
   "outputs": [],
   "source": [
    "# Train data\n",
    "train_data['bedrooms_squared'] = train_data['bedrooms'].apply(lambda x: x**2) # pow(x,2)\n",
    "train_data['bed_bath_rooms'] = train_data['bedrooms'] * train_data['bathrooms']\n",
    "train_data['log_sqft_living'] = train_data['sqft_living'].apply(lambda x: log(x))\n",
    "train_data['lat_plus_long'] = train_data['lat'] + train_data['long']\n",
    "\n",
    "# Test data\n",
    "test_data['bedrooms_squared'] = test_data['bedrooms'].apply(lambda x: x * x)\n",
    "test_data['bed_bath_rooms'] = test_data['bedrooms'] * test_data['bathrooms']\n",
    "test_data['log_sqft_living'] = test_data['sqft_living'].apply(lambda x: log(x))\n",
    "test_data['lat_plus_long'] = test_data['lat'] + test_data['long']\n"
   ]
  },
  {
   "cell_type": "markdown",
   "metadata": {},
   "source": [
    "#### 4. Quiz Question: what are the mean (arithmetic average) values of your 4 new variables on TEST data? (round to 2 digits"
   ]
  },
  {
   "cell_type": "markdown",
   "metadata": {},
   "source": [
    "#### 4a. Train data"
   ]
  },
  {
   "cell_type": "code",
   "execution_count": 23,
   "metadata": {
    "collapsed": false
   },
   "outputs": [
    {
     "name": "stdout",
     "output_type": "stream",
     "text": [
      "12.17\n",
      "7.50\n",
      "7.55\n",
      "-74.65\n"
     ]
    }
   ],
   "source": [
    "print '%.2f' % train_data['bedrooms_squared'].mean()\n",
    "print '%.2f' % train_data['bed_bath_rooms'].mean()\n",
    "print '%.2f' % train_data['log_sqft_living'].mean()\n",
    "print '%.2f' % train_data['lat_plus_long'].mean()"
   ]
  },
  {
   "cell_type": "markdown",
   "metadata": {},
   "source": [
    "#### 4b. Test data"
   ]
  },
  {
   "cell_type": "code",
   "execution_count": 24,
   "metadata": {
    "collapsed": false
   },
   "outputs": [
    {
     "name": "stdout",
     "output_type": "stream",
     "text": [
      "12.45\n",
      "7.50\n",
      "7.55\n",
      "-74.65\n"
     ]
    }
   ],
   "source": [
    "print '%.2f' % test_data['bedrooms_squared'].mean()\n",
    "print '%.2f' % test_data['bed_bath_rooms'].mean()\n",
    "print '%.2f' % test_data['log_sqft_living'].mean()\n",
    "print '%.2f' % test_data['lat_plus_long'].mean()"
   ]
  },
  {
   "cell_type": "markdown",
   "metadata": {},
   "source": [
    "#### 5. Use graphlab.linear_regression.create (or any other regression library/function) to estimate the regression coefficients/weights for predicting ‘price’ for the following three models:(In all 3 models include an intercept -- most software does this by default)."
   ]
  },
  {
   "cell_type": "markdown",
   "metadata": {},
   "source": [
    "Model with nested features"
   ]
  },
  {
   "cell_type": "code",
   "execution_count": 25,
   "metadata": {
    "collapsed": false
   },
   "outputs": [],
   "source": [
    "model_1_features = ['sqft_living', 'bedrooms', 'bathrooms', 'lat', 'long']\n",
    "model_2_features = model_1_features + ['bed_bath_rooms']\n",
    "model_3_features = model_2_features + ['bedrooms_squared', 'log_sqft_living', 'lat_plus_long']"
   ]
  },
  {
   "cell_type": "code",
   "execution_count": 26,
   "metadata": {
    "collapsed": false
   },
   "outputs": [
    {
     "data": {
      "text/html": [
       "<pre>Linear regression:</pre>"
      ],
      "text/plain": [
       "Linear regression:"
      ]
     },
     "metadata": {},
     "output_type": "display_data"
    },
    {
     "data": {
      "text/html": [
       "<pre>--------------------------------------------------------</pre>"
      ],
      "text/plain": [
       "--------------------------------------------------------"
      ]
     },
     "metadata": {},
     "output_type": "display_data"
    },
    {
     "data": {
      "text/html": [
       "<pre>Number of examples          : 17384</pre>"
      ],
      "text/plain": [
       "Number of examples          : 17384"
      ]
     },
     "metadata": {},
     "output_type": "display_data"
    },
    {
     "data": {
      "text/html": [
       "<pre>Number of features          : 5</pre>"
      ],
      "text/plain": [
       "Number of features          : 5"
      ]
     },
     "metadata": {},
     "output_type": "display_data"
    },
    {
     "data": {
      "text/html": [
       "<pre>Number of unpacked features : 5</pre>"
      ],
      "text/plain": [
       "Number of unpacked features : 5"
      ]
     },
     "metadata": {},
     "output_type": "display_data"
    },
    {
     "data": {
      "text/html": [
       "<pre>Number of coefficients    : 6</pre>"
      ],
      "text/plain": [
       "Number of coefficients    : 6"
      ]
     },
     "metadata": {},
     "output_type": "display_data"
    },
    {
     "data": {
      "text/html": [
       "<pre>Starting Newton Method</pre>"
      ],
      "text/plain": [
       "Starting Newton Method"
      ]
     },
     "metadata": {},
     "output_type": "display_data"
    },
    {
     "data": {
      "text/html": [
       "<pre>--------------------------------------------------------</pre>"
      ],
      "text/plain": [
       "--------------------------------------------------------"
      ]
     },
     "metadata": {},
     "output_type": "display_data"
    },
    {
     "data": {
      "text/html": [
       "<pre>+-----------+----------+--------------+--------------------+---------------+</pre>"
      ],
      "text/plain": [
       "+-----------+----------+--------------+--------------------+---------------+"
      ]
     },
     "metadata": {},
     "output_type": "display_data"
    },
    {
     "data": {
      "text/html": [
       "<pre>| Iteration | Passes   | Elapsed Time | Training-max_error | Training-rmse |</pre>"
      ],
      "text/plain": [
       "| Iteration | Passes   | Elapsed Time | Training-max_error | Training-rmse |"
      ]
     },
     "metadata": {},
     "output_type": "display_data"
    },
    {
     "data": {
      "text/html": [
       "<pre>+-----------+----------+--------------+--------------------+---------------+</pre>"
      ],
      "text/plain": [
       "+-----------+----------+--------------+--------------------+---------------+"
      ]
     },
     "metadata": {},
     "output_type": "display_data"
    },
    {
     "data": {
      "text/html": [
       "<pre>| 1         | 2        | 0.023915     | 4074878.213053     | 236378.596454 |</pre>"
      ],
      "text/plain": [
       "| 1         | 2        | 0.023915     | 4074878.213053     | 236378.596454 |"
      ]
     },
     "metadata": {},
     "output_type": "display_data"
    },
    {
     "data": {
      "text/html": [
       "<pre>+-----------+----------+--------------+--------------------+---------------+</pre>"
      ],
      "text/plain": [
       "+-----------+----------+--------------+--------------------+---------------+"
      ]
     },
     "metadata": {},
     "output_type": "display_data"
    },
    {
     "data": {
      "text/html": [
       "<pre>SUCCESS: Optimal solution found.</pre>"
      ],
      "text/plain": [
       "SUCCESS: Optimal solution found."
      ]
     },
     "metadata": {},
     "output_type": "display_data"
    },
    {
     "data": {
      "text/html": [
       "<pre></pre>"
      ],
      "text/plain": []
     },
     "metadata": {},
     "output_type": "display_data"
    },
    {
     "name": "stdout",
     "output_type": "stream",
     "text": [
      "Class                          : LinearRegression\n",
      "\n",
      "Schema\n",
      "------\n",
      "Number of coefficients         : 6\n",
      "Number of examples             : 17384\n",
      "Number of feature columns      : 5\n",
      "Number of unpacked features    : 5\n",
      "\n",
      "Hyperparameters\n",
      "---------------\n",
      "L1 penalty                     : 0.0\n",
      "L2 penalty                     : 0.01\n",
      "\n",
      "Training Summary\n",
      "----------------\n",
      "Solver                         : newton\n",
      "Solver iterations              : 1\n",
      "Solver status                  : SUCCESS: Optimal solution found.\n",
      "Training time (sec)            : 0.0366\n",
      "\n",
      "Settings\n",
      "--------\n",
      "Residual sum of squares        : 9.71328233536e+14\n",
      "Training RMSE                  : 236378.5965\n",
      "\n",
      "Highest Positive Coefficients\n",
      "-----------------------------\n",
      "lat                            : 629865.7895\n",
      "bathrooms                      : 13811.8405\n",
      "sqft_living                    : 310.2633\n",
      "\n",
      "Lowest Negative Coefficients\n",
      "----------------------------\n",
      "(intercept)                    : -56140675.759\n",
      "long                           : -214790.2853\n",
      "bedrooms                       : -59577.1161\n",
      "\n"
     ]
    }
   ],
   "source": [
    "# Model 1 Coefficients \n",
    "model1 = graphlab.linear_regression.create(train_data, target='price', features = model_1_features, validation_set = None)\n",
    "model1_weight_summary = example_model.get(\"coefficients\")\n",
    "print model1"
   ]
  },
  {
   "cell_type": "code",
   "execution_count": 27,
   "metadata": {
    "collapsed": false
   },
   "outputs": [
    {
     "data": {
      "text/html": [
       "<pre>Linear regression:</pre>"
      ],
      "text/plain": [
       "Linear regression:"
      ]
     },
     "metadata": {},
     "output_type": "display_data"
    },
    {
     "data": {
      "text/html": [
       "<pre>--------------------------------------------------------</pre>"
      ],
      "text/plain": [
       "--------------------------------------------------------"
      ]
     },
     "metadata": {},
     "output_type": "display_data"
    },
    {
     "data": {
      "text/html": [
       "<pre>Number of examples          : 17384</pre>"
      ],
      "text/plain": [
       "Number of examples          : 17384"
      ]
     },
     "metadata": {},
     "output_type": "display_data"
    },
    {
     "data": {
      "text/html": [
       "<pre>Number of features          : 6</pre>"
      ],
      "text/plain": [
       "Number of features          : 6"
      ]
     },
     "metadata": {},
     "output_type": "display_data"
    },
    {
     "data": {
      "text/html": [
       "<pre>Number of unpacked features : 6</pre>"
      ],
      "text/plain": [
       "Number of unpacked features : 6"
      ]
     },
     "metadata": {},
     "output_type": "display_data"
    },
    {
     "data": {
      "text/html": [
       "<pre>Number of coefficients    : 7</pre>"
      ],
      "text/plain": [
       "Number of coefficients    : 7"
      ]
     },
     "metadata": {},
     "output_type": "display_data"
    },
    {
     "data": {
      "text/html": [
       "<pre>Starting Newton Method</pre>"
      ],
      "text/plain": [
       "Starting Newton Method"
      ]
     },
     "metadata": {},
     "output_type": "display_data"
    },
    {
     "data": {
      "text/html": [
       "<pre>--------------------------------------------------------</pre>"
      ],
      "text/plain": [
       "--------------------------------------------------------"
      ]
     },
     "metadata": {},
     "output_type": "display_data"
    },
    {
     "data": {
      "text/html": [
       "<pre>+-----------+----------+--------------+--------------------+---------------+</pre>"
      ],
      "text/plain": [
       "+-----------+----------+--------------+--------------------+---------------+"
      ]
     },
     "metadata": {},
     "output_type": "display_data"
    },
    {
     "data": {
      "text/html": [
       "<pre>| Iteration | Passes   | Elapsed Time | Training-max_error | Training-rmse |</pre>"
      ],
      "text/plain": [
       "| Iteration | Passes   | Elapsed Time | Training-max_error | Training-rmse |"
      ]
     },
     "metadata": {},
     "output_type": "display_data"
    },
    {
     "data": {
      "text/html": [
       "<pre>+-----------+----------+--------------+--------------------+---------------+</pre>"
      ],
      "text/plain": [
       "+-----------+----------+--------------+--------------------+---------------+"
      ]
     },
     "metadata": {},
     "output_type": "display_data"
    },
    {
     "data": {
      "text/html": [
       "<pre>| 1         | 2        | 0.021989     | 4014170.932908     | 235190.935427 |</pre>"
      ],
      "text/plain": [
       "| 1         | 2        | 0.021989     | 4014170.932908     | 235190.935427 |"
      ]
     },
     "metadata": {},
     "output_type": "display_data"
    },
    {
     "data": {
      "text/html": [
       "<pre>+-----------+----------+--------------+--------------------+---------------+</pre>"
      ],
      "text/plain": [
       "+-----------+----------+--------------+--------------------+---------------+"
      ]
     },
     "metadata": {},
     "output_type": "display_data"
    },
    {
     "data": {
      "text/html": [
       "<pre>SUCCESS: Optimal solution found.</pre>"
      ],
      "text/plain": [
       "SUCCESS: Optimal solution found."
      ]
     },
     "metadata": {},
     "output_type": "display_data"
    },
    {
     "data": {
      "text/html": [
       "<pre></pre>"
      ],
      "text/plain": []
     },
     "metadata": {},
     "output_type": "display_data"
    },
    {
     "name": "stdout",
     "output_type": "stream",
     "text": [
      "Class                          : LinearRegression\n",
      "\n",
      "Schema\n",
      "------\n",
      "Number of coefficients         : 7\n",
      "Number of examples             : 17384\n",
      "Number of feature columns      : 6\n",
      "Number of unpacked features    : 6\n",
      "\n",
      "Hyperparameters\n",
      "---------------\n",
      "L1 penalty                     : 0.0\n",
      "L2 penalty                     : 0.01\n",
      "\n",
      "Training Summary\n",
      "----------------\n",
      "Solver                         : newton\n",
      "Solver iterations              : 1\n",
      "Solver status                  : SUCCESS: Optimal solution found.\n",
      "Training time (sec)            : 0.0343\n",
      "\n",
      "Settings\n",
      "--------\n",
      "Residual sum of squares        : 9.61592067848e+14\n",
      "Training RMSE                  : 235190.9354\n",
      "\n",
      "Highest Positive Coefficients\n",
      "-----------------------------\n",
      "lat                            : 625433.835\n",
      "bed_bath_rooms                 : 26961.6249\n",
      "sqft_living                    : 304.4493\n",
      "\n",
      "Lowest Negative Coefficients\n",
      "----------------------------\n",
      "(intercept)                    : -54410676.1295\n",
      "long                           : -203958.6031\n",
      "bedrooms                       : -116366.0432\n",
      "bathrooms                      : -77972.3305\n",
      "\n"
     ]
    }
   ],
   "source": [
    "# Model 2 Coefficients \n",
    "model2 = graphlab.linear_regression.create(train_data, target='price', features = model_2_features, validation_set = None)\n",
    "model2_weight_summary = example_model.get(\"coefficients\")\n",
    "print model2"
   ]
  },
  {
   "cell_type": "code",
   "execution_count": 28,
   "metadata": {
    "collapsed": false
   },
   "outputs": [
    {
     "data": {
      "text/html": [
       "<pre>Linear regression:</pre>"
      ],
      "text/plain": [
       "Linear regression:"
      ]
     },
     "metadata": {},
     "output_type": "display_data"
    },
    {
     "data": {
      "text/html": [
       "<pre>--------------------------------------------------------</pre>"
      ],
      "text/plain": [
       "--------------------------------------------------------"
      ]
     },
     "metadata": {},
     "output_type": "display_data"
    },
    {
     "data": {
      "text/html": [
       "<pre>Number of examples          : 17384</pre>"
      ],
      "text/plain": [
       "Number of examples          : 17384"
      ]
     },
     "metadata": {},
     "output_type": "display_data"
    },
    {
     "data": {
      "text/html": [
       "<pre>Number of features          : 9</pre>"
      ],
      "text/plain": [
       "Number of features          : 9"
      ]
     },
     "metadata": {},
     "output_type": "display_data"
    },
    {
     "data": {
      "text/html": [
       "<pre>Number of unpacked features : 9</pre>"
      ],
      "text/plain": [
       "Number of unpacked features : 9"
      ]
     },
     "metadata": {},
     "output_type": "display_data"
    },
    {
     "data": {
      "text/html": [
       "<pre>Number of coefficients    : 10</pre>"
      ],
      "text/plain": [
       "Number of coefficients    : 10"
      ]
     },
     "metadata": {},
     "output_type": "display_data"
    },
    {
     "data": {
      "text/html": [
       "<pre>Starting Newton Method</pre>"
      ],
      "text/plain": [
       "Starting Newton Method"
      ]
     },
     "metadata": {},
     "output_type": "display_data"
    },
    {
     "data": {
      "text/html": [
       "<pre>--------------------------------------------------------</pre>"
      ],
      "text/plain": [
       "--------------------------------------------------------"
      ]
     },
     "metadata": {},
     "output_type": "display_data"
    },
    {
     "data": {
      "text/html": [
       "<pre>+-----------+----------+--------------+--------------------+---------------+</pre>"
      ],
      "text/plain": [
       "+-----------+----------+--------------+--------------------+---------------+"
      ]
     },
     "metadata": {},
     "output_type": "display_data"
    },
    {
     "data": {
      "text/html": [
       "<pre>| Iteration | Passes   | Elapsed Time | Training-max_error | Training-rmse |</pre>"
      ],
      "text/plain": [
       "| Iteration | Passes   | Elapsed Time | Training-max_error | Training-rmse |"
      ]
     },
     "metadata": {},
     "output_type": "display_data"
    },
    {
     "data": {
      "text/html": [
       "<pre>+-----------+----------+--------------+--------------------+---------------+</pre>"
      ],
      "text/plain": [
       "+-----------+----------+--------------+--------------------+---------------+"
      ]
     },
     "metadata": {},
     "output_type": "display_data"
    },
    {
     "data": {
      "text/html": [
       "<pre>| 1         | 2        | 0.027584     | 3193229.177891     | 228200.043154 |</pre>"
      ],
      "text/plain": [
       "| 1         | 2        | 0.027584     | 3193229.177891     | 228200.043154 |"
      ]
     },
     "metadata": {},
     "output_type": "display_data"
    },
    {
     "data": {
      "text/html": [
       "<pre>+-----------+----------+--------------+--------------------+---------------+</pre>"
      ],
      "text/plain": [
       "+-----------+----------+--------------+--------------------+---------------+"
      ]
     },
     "metadata": {},
     "output_type": "display_data"
    },
    {
     "data": {
      "text/html": [
       "<pre>SUCCESS: Optimal solution found.</pre>"
      ],
      "text/plain": [
       "SUCCESS: Optimal solution found."
      ]
     },
     "metadata": {},
     "output_type": "display_data"
    },
    {
     "data": {
      "text/html": [
       "<pre></pre>"
      ],
      "text/plain": []
     },
     "metadata": {},
     "output_type": "display_data"
    },
    {
     "name": "stdout",
     "output_type": "stream",
     "text": [
      "Class                          : LinearRegression\n",
      "\n",
      "Schema\n",
      "------\n",
      "Number of coefficients         : 10\n",
      "Number of examples             : 17384\n",
      "Number of feature columns      : 9\n",
      "Number of unpacked features    : 9\n",
      "\n",
      "Hyperparameters\n",
      "---------------\n",
      "L1 penalty                     : 0.0\n",
      "L2 penalty                     : 0.01\n",
      "\n",
      "Training Summary\n",
      "----------------\n",
      "Solver                         : newton\n",
      "Solver iterations              : 1\n",
      "Solver status                  : SUCCESS: Optimal solution found.\n",
      "Training time (sec)            : 0.0406\n",
      "\n",
      "Settings\n",
      "--------\n",
      "Residual sum of squares        : 9.05276314543e+14\n",
      "Training RMSE                  : 228200.0432\n",
      "\n",
      "Highest Positive Coefficients\n",
      "-----------------------------\n",
      "lat                            : 704762.1486\n",
      "bathrooms                      : 65661.2072\n",
      "bedrooms                       : 28948.5277\n",
      "sqft_living                    : 529.1964\n",
      "\n",
      "Lowest Negative Coefficients\n",
      "----------------------------\n",
      "(intercept)                    : -52974974.0925\n",
      "log_sqft_living                : -563467.7842\n",
      "long                           : -137780.0201\n",
      "lat_plus_long                  : -83217.198\n",
      "bed_bath_rooms                 : -8478.3641\n",
      "\n"
     ]
    }
   ],
   "source": [
    "# Model 3 Coefficients \n",
    "model3 = graphlab.linear_regression.create(train_data, target='price', features = model_3_features, validation_set = None)\n",
    "model3_weight_summary = example_model.get(\"coefficients\")\n",
    "print model3"
   ]
  },
  {
   "cell_type": "code",
   "execution_count": 29,
   "metadata": {
    "collapsed": false
   },
   "outputs": [
    {
     "name": "stdout",
     "output_type": "stream",
     "text": [
      "[245784.0180778727, 839789.2975793332, 315874.4876407571, 491173.3594924025, 435719.03850660846, 1587305.200075172, 317206.95135492086, 163793.7984330654, 449754.0624874383, 348293.20987571403, 1037310.0842846595, 419408.0437711589, 333462.2774801254, 465325.80479029566, 552895.8346740603, 431715.66812399775, 174161.01114581153, 166545.7647424601, 471658.09727393463, 857994.4309011064, 350358.6566111967, 159174.30914607644, 552411.3052292988, 752514.852327507, 396233.9844544716, 487424.73562210426, 730237.6734783426, 473023.94312246144, 684910.6157502234, 409249.175462313, 733470.9068562612, 403388.48613011464, 688729.8411750607, 92553.504985746, 653800.5755720809, 957783.3667671531, 471737.23690997437, 219770.99076706544, 967569.6636722833, 82493.85834706202, 596740.0631163903, 393398.18104126304, 728768.199582506, 209154.5768839568, 732685.2328057177, 461540.71531048045, 706254.4519761242, 721897.420986969, 819406.6509108283, 530941.1648107693, 818113.3020427674, 395202.1950080618, 532678.226809632, 647273.5642556809, 485382.4446587898, 483674.21280543506, 813328.2743449733, 714982.0239216015, 426574.23285404965, 64456.64513164386, 836567.4010778517, 1339831.5101131499, 409481.236572396, 437106.3678149432, 912534.1348668598, 406287.4528705515, 264748.71758409217, 458412.08066104725, 754955.7797644995, 475242.9733941443, 596061.5144051835, 365594.4709113203, 324518.4880040437, 651002.500207141, 449727.199834615, 765049.3635698669, 446819.99403560534, 314811.1548791267, 993459.2982947268, 153137.84816464782, 515177.17012663186, 515177.17012663186, 910893.8954041786, 82111.34759262949, 324238.85325455293, 486290.6272601113, 637298.9024913236, 637330.9557279199, 703375.9374898896, 837517.0035590157, 193076.69919219613, 556784.773953516, 535547.7091643661, 266470.71495102346, 915612.5366749763, 530908.9523340724, 408546.1092186421, 225639.2343423143, 566486.7004269846, 1414845.8128998093, ... ]\n"
     ]
    }
   ],
   "source": [
    "model1_predictions = model1.predict(train_data)\n",
    "print model1_predictions"
   ]
  },
  {
   "cell_type": "markdown",
   "metadata": {},
   "source": [
    "#### 6. Quiz Question: What is the sign (positive or negative) for the coefficient/weight for ‘bathrooms’ in Model 1?\n",
    "\n",
    "Positive"
   ]
  },
  {
   "cell_type": "markdown",
   "metadata": {},
   "source": [
    "#### 7. Quiz Question: What is the sign (positive or negative) for the coefficient/weight for ‘bathrooms’ in Model 2?\n",
    "\n",
    "Positive"
   ]
  },
  {
   "cell_type": "markdown",
   "metadata": {},
   "source": [
    "#### 8. Is the sign for the coefficient the same in both models? Think about why this might be the case.\n",
    "Yes.\n",
    "\n"
   ]
  },
  {
   "cell_type": "code",
   "execution_count": 42,
   "metadata": {
    "collapsed": true
   },
   "outputs": [],
   "source": [
    "def get_residual_sum_of_squares(model, data, outcome):\n",
    "    # First get the predictions\n",
    "    prediction = model.predict(data);\n",
    "\n",
    "    # Then compute the residuals/errors\n",
    "    residual = prediction - outcome\n",
    "    \n",
    "    # Then square and add them up\n",
    "    RSS = residual.apply(lambda r: r**2)\n",
    "    RSS = RSS.sum()\n",
    "\n",
    "    return(RSS)   "
   ]
  },
  {
   "cell_type": "code",
   "execution_count": 50,
   "metadata": {
    "collapsed": false
   },
   "outputs": [
    {
     "name": "stdout",
     "output_type": "stream",
     "text": [
      "2.7376153833e+14\n"
     ]
    }
   ],
   "source": [
    "rss_example_train = get_residual_sum_of_squares(example_model, test_data, test_data['price'])\n",
    "print rss_example_train # should be 2.7376153833e+14"
   ]
  },
  {
   "cell_type": "markdown",
   "metadata": {},
   "source": [
    "#### 9. Now using your three estimated models compute the RSS (Residual Sum of Squares) on the Training data."
   ]
  },
  {
   "cell_type": "code",
   "execution_count": 49,
   "metadata": {
    "collapsed": false
   },
   "outputs": [
    {
     "name": "stdout",
     "output_type": "stream",
     "text": [
      "9.71328233536e+14\n",
      "9.61592067848e+14\n",
      "9.05276314543e+14\n"
     ]
    }
   ],
   "source": [
    "print(get_residual_sum_of_squares(model1, train_data, train_data['price']))\n",
    "print(get_residual_sum_of_squares(model2, train_data, train_data['price']))\n",
    "print(get_residual_sum_of_squares(model3, train_data, train_data['price']))"
   ]
  },
  {
   "cell_type": "markdown",
   "metadata": {},
   "source": [
    "#### 10. Quiz Question: Which model (1, 2 or 3) had the lowest RSS on TRAINING data?\n",
    "Model 3\n",
    "\n",
    "#### 11. Now using your three estimated models compute the RSS on the Testing data"
   ]
  },
  {
   "cell_type": "code",
   "execution_count": 48,
   "metadata": {
    "collapsed": false
   },
   "outputs": [
    {
     "name": "stdout",
     "output_type": "stream",
     "text": [
      "2.26568089091e+14\n",
      "2.24368799992e+14\n",
      "2.51829318966e+14\n"
     ]
    }
   ],
   "source": [
    "print(get_residual_sum_of_squares(model1, test_data, test_data['price']))\n",
    "print(get_residual_sum_of_squares(model2, test_data, test_data['price']))\n",
    "print(get_residual_sum_of_squares(model3, test_data, test_data['price']))"
   ]
  },
  {
   "cell_type": "markdown",
   "metadata": {},
   "source": [
    "#### 12. Quiz Question: Which model (1, 2, or 3) had the lowest RSS on TESTING data?\n",
    "Model 2"
   ]
  },
  {
   "cell_type": "markdown",
   "metadata": {},
   "source": [
    "#### 13. Did you get the same answer for 9 and 11? Think about why this might be the case."
   ]
  },
  {
   "cell_type": "code",
   "execution_count": null,
   "metadata": {
    "collapsed": true
   },
   "outputs": [],
   "source": []
  }
 ],
 "metadata": {
  "kernelspec": {
   "display_name": "Python 2",
   "language": "python",
   "name": "python2"
  },
  "language_info": {
   "codemirror_mode": {
    "name": "ipython",
    "version": 2
   },
   "file_extension": ".py",
   "mimetype": "text/x-python",
   "name": "python",
   "nbconvert_exporter": "python",
   "pygments_lexer": "ipython2",
   "version": "2.7.11"
  }
 },
 "nbformat": 4,
 "nbformat_minor": 0
}
