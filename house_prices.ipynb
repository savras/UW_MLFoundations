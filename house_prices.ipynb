import graphlab

sales = graphlab.SFrame('home_data.gl')

sales

graphlab.canvas.set_target('ipynb')
sales.show(view="Scatter Plot", x="sqft_living", y="price")
