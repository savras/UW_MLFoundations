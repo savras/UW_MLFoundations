{
 "cells": [
  {
   "cell_type": "code",
   "execution_count": 12,
   "metadata": {
    "collapsed": true
   },
   "outputs": [],
   "source": [
    "import graphlab"
   ]
  },
  {
   "cell_type": "code",
   "execution_count": 13,
   "metadata": {
    "collapsed": false
   },
   "outputs": [],
   "source": [
    "sales = graphlab.SFrame('kc_house_data.gl/')"
   ]
  },
  {
   "cell_type": "code",
   "execution_count": 14,
   "metadata": {
    "collapsed": false
   },
   "outputs": [],
   "source": [
    "train_data,test_data = sales.random_split(.8,seed=0)"
   ]
  },
  {
   "cell_type": "markdown",
   "metadata": {},
   "source": [
    "### Simple Linear Regression"
   ]
  },
  {
   "cell_type": "code",
   "execution_count": 15,
   "metadata": {
    "collapsed": false
   },
   "outputs": [],
   "source": [
    "def simple_linear_regression(input_feature, output):\n",
    "    input_sum = input_feature.sum()\n",
    "    output_sum = output.sum()\n",
    "    \n",
    "    n = input_feature.size()   \n",
    "    output_mean = output_sum / n\n",
    "    input_mean = input_sum / n\n",
    "    \n",
    "    input_multiply_output_mean = (input_feature * output).sum() / n\n",
    "    \n",
    "    input_squared = input_feature * input_feature\n",
    "    input_squared_mean = input_squared.sum() / n\n",
    "    \n",
    "    numerator = input_multiply_output_mean - (output_mean * input_mean)\n",
    "    denumerator = input_squared_mean - (input_mean * input_mean)\n",
    "    \n",
    "    slope = numerator / denumerator\n",
    "    intercept = output_mean - (slope * input_mean)\n",
    "    return (intercept, slope)\n"
   ]
  },
  {
   "cell_type": "markdown",
   "metadata": {},
   "source": [
    "Test simple_linear_regression"
   ]
  },
  {
   "cell_type": "code",
   "execution_count": 16,
   "metadata": {
    "collapsed": false
   },
   "outputs": [
    {
     "name": "stdout",
     "output_type": "stream",
     "text": [
      "Intercept: 1\n",
      "Slope: 1\n"
     ]
    }
   ],
   "source": [
    "\n",
    "test_feature = graphlab.SArray(range(5))\n",
    "test_output = graphlab.SArray(1 + 1*test_feature)\n",
    "(test_intercept, test_slope) =  simple_linear_regression(test_feature, test_output)\n",
    "print \"Intercept: \" + str(test_intercept)\n",
    "print \"Slope: \" + str(test_slope)\n"
   ]
  },
  {
   "cell_type": "code",
   "execution_count": 17,
   "metadata": {
    "collapsed": false
   },
   "outputs": [],
   "source": [
    "def get_regression_predictions(input_feature, intercept, slope):\n",
    "    predicted_output = (input_feature * slope) + intercept\n",
    "    return(predicted_output)"
   ]
  },
  {
   "cell_type": "markdown",
   "metadata": {},
   "source": [
    "#### Q6. Quiz Question: Using your Slope and Intercept from (4), What is the predicted price for a house with 2650 sqft?"
   ]
  },
  {
   "cell_type": "code",
   "execution_count": 18,
   "metadata": {
    "collapsed": false
   },
   "outputs": [
    {
     "data": {
      "text/plain": [
       "dtype: float\n",
       "Rows: 1\n",
       "[700074.8456294583]"
      ]
     },
     "execution_count": 18,
     "metadata": {},
     "output_type": "execute_result"
    }
   ],
   "source": [
    "q6_input_feature = graphlab.SArray([2650])\n",
    "input_feature = train_data['sqft_living']\n",
    "output = train_data['price']\n",
    "\n",
    "(intercept, slope) = simple_linear_regression(input_feature, output)\n",
    "q6_answer = get_regression_predictions(q6_input_feature, intercept, slope)\n",
    "q6_answer"
   ]
  },
  {
   "cell_type": "markdown",
   "metadata": {},
   "source": [
    "### RSS"
   ]
  },
  {
   "cell_type": "code",
   "execution_count": 31,
   "metadata": {
    "collapsed": true
   },
   "outputs": [],
   "source": [
    "def get_residual_sum_of_squares(input_feature, output, intercept, slope):\n",
    "    # First get the predictions\n",
    "    predictions = get_regression_predictions(input_feature, intercept, slope)\n",
    "    \n",
    "    # then compute the residuals (since we are squaring it doesn't matter which order you subtract)\n",
    "    residuals = predictions - output\n",
    "    residuals_squared = residuals * residuals\n",
    "    \n",
    "    # square the residuals and add them up\n",
    "    RSS = residuals_squared.sum()\n",
    "    \n",
    "    return(RSS)"
   ]
  },
  {
   "cell_type": "markdown",
   "metadata": {},
   "source": [
    "#### 8. Quiz Question: According to this function and the slope and intercept from (4) What is the RSS for the simple linear regression using squarefeet to predict prices on TRAINING data?"
   ]
  },
  {
   "cell_type": "code",
   "execution_count": 44,
   "metadata": {
    "collapsed": false
   },
   "outputs": [
    {
     "name": "stdout",
     "output_type": "stream",
     "text": [
      "Test should be zero: 0\n",
      "RSS is 1.20191835632e+15\n",
      "RSS is 1201918356321968.00\n"
     ]
    }
   ],
   "source": [
    "print 'Test should be zero: ' + str(get_residual_sum_of_squares(test_feature, test_output, test_intercept, test_slope))\n",
    "\n",
    "print 'RSS is ' + str(get_residual_sum_of_squares(input_feature, output, intercept, slope))\n",
    "print 'RSS is %.2f' % get_residual_sum_of_squares(input_feature, output, intercept, slope)"
   ]
  },
  {
   "cell_type": "markdown",
   "metadata": {},
   "source": [
    "### Inverse linear function and get sq.ft based on price"
   ]
  },
  {
   "cell_type": "code",
   "execution_count": 50,
   "metadata": {
    "collapsed": false
   },
   "outputs": [],
   "source": [
    "def inverse_regression_predictions(output, intercept, slope):\n",
    "    estimated_input = (output - intercept)/slope\n",
    "    return(estimated_input)"
   ]
  },
  {
   "cell_type": "markdown",
   "metadata": {},
   "source": [
    "#### 10. Quiz Question: According to this function and the regression slope and intercept from (3) what is the estimated square-feet for a house costing $800,000?"
   ]
  },
  {
   "cell_type": "code",
   "execution_count": 56,
   "metadata": {
    "collapsed": false
   },
   "outputs": [
    {
     "name": "stdout",
     "output_type": "stream",
     "text": [
      "Price of $800000 should be 3004.40 sq.ft\n"
     ]
    }
   ],
   "source": [
    "house_price = 800000\n",
    "print 'Price of $%d should be %.2f sq.ft' % (house_price, inverse_regression_predictions(house_price, intercept, slope))"
   ]
  },
  {
   "cell_type": "markdown",
   "metadata": {},
   "source": [
    "### Using bedrooms as input"
   ]
  },
  {
   "cell_type": "code",
   "execution_count": 68,
   "metadata": {
    "collapsed": false
   },
   "outputs": [
    {
     "name": "stdout",
     "output_type": "stream",
     "text": [
      "Bedroom intercept: 109473.18, bedroom slope 127588.95\n",
      "Bedroom RSS is 2143244494226585.25\n"
     ]
    }
   ],
   "source": [
    "bedroom_feature = input_feature = train_data['bedrooms']\n",
    "(bedroom_intercept, bedroom_slope) = simple_linear_regression(bedroom_feature, output)   \n",
    "print 'Bedroom intercept: %.2f, bedroom slope %.2f' % (bedroom_intercept, bedroom_slope)\n",
    "\n",
    "print 'Bedroom RSS is %.2f' % get_residual_sum_of_squares(bedroom_feature, output, bedroom_intercept, bedroom_slope)"
   ]
  },
  {
   "cell_type": "markdown",
   "metadata": {},
   "source": [
    "#### 13. Quiz Question: Which model (square feet or bedrooms) has lowest RSS on TEST data? Think about why this might be the case."
   ]
  },
  {
   "cell_type": "markdown",
   "metadata": {},
   "source": [
    "Bedroom RSS is : 2,143,244,494,226,585.25\n"
   ]
  },
  {
   "cell_type": "markdown",
   "metadata": {},
   "source": [
    "Sq.ft RSS is   : 1,201,918,356,321,968.00 "
   ]
  },
  {
   "cell_type": "code",
   "execution_count": null,
   "metadata": {
    "collapsed": true
   },
   "outputs": [],
   "source": []
  }
 ],
 "metadata": {
  "kernelspec": {
   "display_name": "Python 2",
   "language": "python",
   "name": "python2"
  },
  "language_info": {
   "codemirror_mode": {
    "name": "ipython",
    "version": 2
   },
   "file_extension": ".py",
   "mimetype": "text/x-python",
   "name": "python",
   "nbconvert_exporter": "python",
   "pygments_lexer": "ipython2",
   "version": "2.7.11"
  }
 },
 "nbformat": 4,
 "nbformat_minor": 0
}
