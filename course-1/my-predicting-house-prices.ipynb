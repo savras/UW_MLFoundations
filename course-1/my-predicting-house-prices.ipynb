import graphlab

# Load data and print it out
sales = graphlab.SFrame('home_data.gl')
sales

# Render graph in jupyter and draw a scatter plot
graphlab.canvas.set_target('ipynb')
sales.show(view="Scatter Plot", x="sqft_living", y="price")

# Split data into 80/20 between train and test data
train_data,test_data = sales.random_split(.8,seed=2018)

# Build regression model
sqft_model = graphlab.linear_regression.create(train_data, target='price',features=['sqft_living'])

# Evaluate the model
print test_data['price'].mean()

print sqft_model.evaluate(test_data)

# Show what predictions look like
import matplotlib.pyplot as plt

# Plot in jupyter
%matplotlib inline 

plt.plot(test_data['sqft_living'],test_data['price'],'.',
         test_data['sqft_living'],sqft_model.predict(test_data), '-')

# Get weights
print sqft_model.get('coefficients')

# Explore other features
my_features = ['bedrooms', 'bathrooms','sqft_living', 'sqft_lot', 'floors', 'zipcode']
sales[my_features].show()

sales.show(view='BoxWhisker Plot', x='zipcode', y='price')

# Build regression model with more features
my_features_model = graphlab.linear_regression.create(train_data,target='price',features=my_features)
print my_features

print sqft_model.evaluate(test_data)
print my_features_model.evaluate(test_data)

# Apply model to predict prices of 3 houses
# House 1 - standard seattle house
house1 = sales[sales['id']=='5631500400']
house1

# <img src="house-5309101200.jpg">
print house1['price']

print sqft_model.predict(house1)
print my_features_model.predict(house1)

# House 2 - waterfront house
house2 = sales[sales['id']=='1925069082']
house2

print house2['price']

print sqft_model.predict(house2)
print my_features_model.predict(house2)

# House 3 - super fancy house
bill_gates = {'bedrooms':[8], 
              'bathrooms':[25], 
              'sqft_living':[50000], 
              'sqft_lot':[225000],
              'floors':[4], 
              'zipcode':['98039'], 
              'condition':[10], 
              'grade':[10],
              'waterfront':[1],
              'view':[4],
              'sqft_above':[37500],
              'sqft_basement':[12500],
              'yr_built':[1994],
              'yr_renovated':[2010],
              'lat':[47.627606],
              'long':[-122.242054],
              'sqft_living15':[5000],
              'sqft_lot15':[40000]}

print my_features_model.predict(graphlab.SFrame(bill_gates))
