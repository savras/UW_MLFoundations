import graphlab

# Load data and print it out
sales = graphlab.SFrame('home_data.gl')
sales

# Render graph in jupyter and draw a scatter plot
graphlab.canvas.set_target('ipynb')
sales.show(view="Scatter Plot", x="sqft_living", y="price")

# Split data into 80/20 between train and test data
train_data,test_data = sales.random_split(.8,seed=2018)

# Build regression model
sqft_model = graphlab.linear_regression.create(train_data, target='price',features=['sqft_living'])

# Evaluate the model
print test_data['price'].mean()

print sqft_model.evaluate(test_data)

# Show what predictions look like
import matplotlib.pyplot as plt

# Plot in jupyter
%matplotlib inline 

plt.plot(test_data['sqft_living'],test_data['price'],'.',
         test_data['sqft_living'],sqft_model.predict(test_data), '-')

# Get weights
print sqft_model.get('coefficients')

# Explore other features
my_features = ['bedrooms', 'bathrooms','sqft_living', 'sqft_lot', 'floors', 'zipcode']
sales[my_features].show()

sales.show(view='BoxWhisker Plot', x='zipcode', y='price')

# Build regression model with more features
my_features_model = graphlab.linear_regression.create(train_data,target='price',features=my_features)
print my_features

print sqft_model.evaluate(test_data)
print my_features_model.evaluate(test_data)
