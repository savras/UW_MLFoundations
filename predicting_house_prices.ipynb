import graphlab

# Load data and print it out
sales = graphlab.SFrame('home_data.gl')
sales

# Render graph in IPython and draw a scatter plot
graphlab.canvas.set_target('ipynb')
sales.show(view="Scatter Plot", x="sqft_living", y="price")

# Split data into 80/20 between train and test data
train_data,test_data = sales.random_split(.8,seed=2018)

# Build regression model
sqft_model = graphlab.linear_regression.create(train_data, target='price',features=['sqft_living'])
