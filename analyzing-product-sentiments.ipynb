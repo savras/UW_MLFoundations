import graphlab

products = graphlab.SFrame('amazon_baby.gl')
products.head()

products['word_count'] = graphlab.text_analytics.count_words(products['review'])
products.head()

graphlab.canvas.set_target('ipynb')
products['name'].show()

giraffe_review = products[products['name'] == 'Vulli Sophie the Giraffe Teether']
len(giraffe_review)
giraffe_review['rating'].show(view='Categorical')
